{
 "cells": [
  {
   "cell_type": "markdown",
   "id": "cb70be5c",
   "metadata": {},
   "source": [
    "# ASSIGNMENT 13"
   ]
  },
  {
   "cell_type": "markdown",
   "id": "20756da8",
   "metadata": {},
   "source": [
    "# 1. Explain what inheritance is in object-oriented programming and why it is used."
   ]
  },
  {
   "cell_type": "code",
   "execution_count": null,
   "id": "812ac3b7",
   "metadata": {},
   "outputs": [],
   "source": [
    "Answer:\n",
    "1)Inheritance is a fundamental concept in object-oriented programming that allows one class to\n",
    "inherit properties (attribute and methods) from another class.\n",
    "2)Inheritance is used to create a new class (derived class) based on an existing class (base class).\n",
    "3)Python supports single inheritance, which means a subclass can inherit from only one superclass.\n",
    "4)Inheritance in object-oriented programming, allows for code reuse, organization, and\n",
    "specialization."
   ]
  },
  {
   "cell_type": "markdown",
   "id": "d21bffa9",
   "metadata": {},
   "source": [
    "# 2. Discuss the concept of single inheritance and multiple inheritance, highlighting their differences and advantages."
   ]
  },
  {
   "cell_type": "code",
   "execution_count": null,
   "id": "6019fd15",
   "metadata": {},
   "outputs": [],
   "source": [
    "Answer:\n",
    "A)SINGLE INHERITANCE:\n",
    "1)Single inheritance refers to a class inheriting from a single parent or base class.This leads to\n",
    "linear class hierarchy where each subclass inherits from a single parent class,and each parent class\n",
    "can have its own set of attributes and methods.\n",
    "2)Advantages:Simplicity(Single inheritance simplifies class relationships.) and Avoid Diamond problem\n",
    "( when a class inherits from two classes that have a common ancestor.) Single inheritance avoids this.\n",
    "    \n",
    "B)MULTIPLE INHERITANCE:\n",
    "1)Multiple inheritance allows a class to inherit attributes and methods from multiple parent classes.\n",
    "This leads to a more complex class hierarchy, where a subclass can inherit from two or more superclasses.\n",
    "2)Advantages:Code Reusability and Flexibility and composition."
   ]
  },
  {
   "cell_type": "markdown",
   "id": "1c934238",
   "metadata": {},
   "source": [
    "# 3. Explain the terms \"base class\" and \"derived class\" in the context of inheritance."
   ]
  },
  {
   "cell_type": "code",
   "execution_count": null,
   "id": "889450cb",
   "metadata": {},
   "outputs": [],
   "source": [
    "Answer:\n",
    "1)Base class:A base class, also known as a superclass or parent class, is the class that provides the attributes\n",
    "and methods that are inherited by other classes.\n",
    "\n",
    "2)Derived class:A derived class, also known as a subclass or child class, is a class that inherits attributes and\n",
    "methods from a base class. It modifies the behavior of the base class by adding new attributes or methods, or by\n",
    "overriding existing methods. "
   ]
  },
  {
   "cell_type": "markdown",
   "id": "8b0ec98d",
   "metadata": {},
   "source": [
    "# 4. What is the significance of the \"protected\" access modifier in inheritance? How does it differ from \"private\" and \"public\" modifiers?"
   ]
  },
  {
   "cell_type": "code",
   "execution_count": null,
   "id": "6c47699a",
   "metadata": {},
   "outputs": [],
   "source": [
    "Answer:\n",
    "1)The \"protected\" access modifier is used to indicate that a member is intended to be accessible within the base\n",
    "class and its subclasses, but not from outside the class hierarchy.\n",
    "2)Difference:\n",
    "a)Public members are accessible everywhere and are part of the class public interface.\n",
    "b)Protected members are accessible within the class and its subclasses, but not from outside the class hierarchy.\n",
    "Indicated by ('_') single underscore.\n",
    "c)Private members are meant to be used only within the class itself and are not intended to be accessed externally\n",
    "or by subclasses.Indicated by ('__') double underscore."
   ]
  },
  {
   "cell_type": "markdown",
   "id": "650a4de9",
   "metadata": {},
   "source": [
    "# 5. What is the purpose of the \"super\" keyword in inheritance? Provide an example."
   ]
  },
  {
   "cell_type": "code",
   "execution_count": null,
   "id": "692867f9",
   "metadata": {},
   "outputs": [],
   "source": [
    "Answer:\n",
    "The super keyword is used to call a method from the parent or superclass within a subclass.It provides a way to\n",
    "access and invoke methods or constructors of the superclass,allowing for code reuse and extension of behavior in the\n",
    "derived class. "
   ]
  },
  {
   "cell_type": "code",
   "execution_count": 16,
   "id": "0b4f8727",
   "metadata": {},
   "outputs": [],
   "source": [
    "#Example of super keyword\n",
    "\n",
    "class Person:\n",
    "    def __init__(self,name,age):\n",
    "        self.name = name\n",
    "        self.age = age\n",
    "        \n",
    "    def intro(self):\n",
    "        return f\"Hi, myself {self.name} and my age is {self.age}\""
   ]
  },
  {
   "cell_type": "code",
   "execution_count": 17,
   "id": "1e84ccfa",
   "metadata": {},
   "outputs": [],
   "source": [
    "class Student(Person):\n",
    "    def __init__(self,name,age,student_id):\n",
    "        super().__init__(name,age)   #here we called constructor of psarent class using super().__init__\n",
    "        self.student_id = student_id\n",
    "        \n",
    "    def intro(self):\n",
    "        return super().intro() + f\"my student id is {self.student_id}\"  #here we intended parent class intro"
   ]
  },
  {
   "cell_type": "code",
   "execution_count": 18,
   "id": "96f4399b",
   "metadata": {},
   "outputs": [],
   "source": [
    "person = Person(\"Suraj\", 20)"
   ]
  },
  {
   "cell_type": "code",
   "execution_count": 19,
   "id": "c785cfd0",
   "metadata": {},
   "outputs": [
    {
     "data": {
      "text/plain": [
       "'Hi, myself Suraj and my age is 20'"
      ]
     },
     "execution_count": 19,
     "metadata": {},
     "output_type": "execute_result"
    }
   ],
   "source": [
    "person.intro()"
   ]
  },
  {
   "cell_type": "code",
   "execution_count": 20,
   "id": "614f88f1",
   "metadata": {},
   "outputs": [],
   "source": [
    "student = Student(\"Suraj\", 20, 296)"
   ]
  },
  {
   "cell_type": "code",
   "execution_count": 21,
   "id": "19ada48a",
   "metadata": {},
   "outputs": [
    {
     "data": {
      "text/plain": [
       "'Hi, myself Suraj and my age is 20my student id is 296'"
      ]
     },
     "execution_count": 21,
     "metadata": {},
     "output_type": "execute_result"
    }
   ],
   "source": [
    "student.intro()"
   ]
  },
  {
   "cell_type": "markdown",
   "id": "665cccdb",
   "metadata": {},
   "source": [
    "# 6. Create a base class called \"Vehicle\" with attributes like \"make\", \"model\", and \"year\". Then, create a derived class called \"Car\" that inherits from \"Vehicle\" and adds an attribute called \"fuel_type\". Implement appropriate methods in both classes."
   ]
  },
  {
   "cell_type": "code",
   "execution_count": 22,
   "id": "8f7c2e6e",
   "metadata": {},
   "outputs": [],
   "source": [
    "#Answer:\n",
    "\n",
    "class Vehicle:\n",
    "    def __init__(self,make,model,year):\n",
    "        self.make = make\n",
    "        self.model = model\n",
    "        self.year = year\n",
    "        \n",
    "    def display_info(self):\n",
    "        return f\"{self.year} {self.make} {self.model}\""
   ]
  },
  {
   "cell_type": "code",
   "execution_count": 23,
   "id": "60afb569",
   "metadata": {},
   "outputs": [],
   "source": [
    "class Car(Vehicle):\n",
    "    def __init__(self,make,model,year,fuel_type):\n",
    "        super().__init__(make,model,year)           #here we called constructor of parent(Vehicle) class \n",
    "        self.fuel_type = fuel_type\n",
    "        \n",
    "    def display_info(self):\n",
    "        return f\"{super().display_info()}, Fuel Type: {self.fuel_type}\""
   ]
  },
  {
   "cell_type": "code",
   "execution_count": 24,
   "id": "b1f179a7",
   "metadata": {},
   "outputs": [],
   "source": [
    "vehicle = Vehicle(\"Toyota\", \"Legender\", 2020)\n",
    "car = Car(\"Tata\",\"Harrier\", 2021, \"Petrol\")"
   ]
  },
  {
   "cell_type": "code",
   "execution_count": 25,
   "id": "06d440d4",
   "metadata": {},
   "outputs": [
    {
     "data": {
      "text/plain": [
       "'2020 Toyota Legender'"
      ]
     },
     "execution_count": 25,
     "metadata": {},
     "output_type": "execute_result"
    }
   ],
   "source": [
    "vehicle.display_info()"
   ]
  },
  {
   "cell_type": "code",
   "execution_count": 26,
   "id": "042e381c",
   "metadata": {},
   "outputs": [
    {
     "data": {
      "text/plain": [
       "'2021 Tata Harrier, Fuel Type: Petrol'"
      ]
     },
     "execution_count": 26,
     "metadata": {},
     "output_type": "execute_result"
    }
   ],
   "source": [
    "car.display_info()"
   ]
  },
  {
   "cell_type": "markdown",
   "id": "fb376f70",
   "metadata": {},
   "source": [
    "# 7. Create a base class called \"Employee\" with attributes like \"name\" and \"salary.\" Derive two classes, \"Manager\" and \"Developer,\" from \"Employee.\" Add an additional attribute called \"department\" for the \"Manager\" class and \"programming_language\" for the \"Developer\" class."
   ]
  },
  {
   "cell_type": "code",
   "execution_count": 52,
   "id": "5866196d",
   "metadata": {},
   "outputs": [],
   "source": [
    "#Answer:\n",
    "\n",
    "class Employee:\n",
    "    def __init__(self,name,salary):\n",
    "        self.name = name\n",
    "        self.salary = salary\n",
    "        \n",
    "    def display_info(self):\n",
    "        return f\"The name of an employee is {self.name} and he/she gets {self.salary} rupees.\""
   ]
  },
  {
   "cell_type": "code",
   "execution_count": 53,
   "id": "5fa1093b",
   "metadata": {},
   "outputs": [],
   "source": [
    "class Manager(Employee):\n",
    "    def __init__(self,name,salary,department):\n",
    "        super().__init__(name,salary)\n",
    "        self.department = department\n",
    "        \n",
    "    def display_info(self):\n",
    "        return f\"{super().display_info()} and working as {self.department}\""
   ]
  },
  {
   "cell_type": "code",
   "execution_count": 54,
   "id": "d079ea42",
   "metadata": {},
   "outputs": [],
   "source": [
    "class Developer(Employee):\n",
    "    def __init__(self,name, salary, programming_language):\n",
    "        super().__init__(name,salary)\n",
    "        self.programming_language = programming_language\n",
    "    \n",
    "    def display_info(self):\n",
    "        return f\"{super().display_info()} and she knows {self.programming_language}\""
   ]
  },
  {
   "cell_type": "code",
   "execution_count": 55,
   "id": "80294bf3",
   "metadata": {},
   "outputs": [],
   "source": [
    "employee = Employee(\"Sahil\", 50000)\n",
    "manager = Manager(\"rahul\",40000, \"HR\")\n",
    "developer = Developer(\"himani\", 50800, \"Python\" )"
   ]
  },
  {
   "cell_type": "code",
   "execution_count": 56,
   "id": "983b3fc5",
   "metadata": {},
   "outputs": [
    {
     "name": "stdout",
     "output_type": "stream",
     "text": [
      "The name of an employee is Sahil and he/she gets 50000 rupees.\n"
     ]
    }
   ],
   "source": [
    "print(employee.display_info())"
   ]
  },
  {
   "cell_type": "code",
   "execution_count": 57,
   "id": "11bb0104",
   "metadata": {},
   "outputs": [
    {
     "name": "stdout",
     "output_type": "stream",
     "text": [
      "The name of an employee is rahul and he/she gets 40000 rupees. and working as HR\n"
     ]
    }
   ],
   "source": [
    "print(manager.display_info())"
   ]
  },
  {
   "cell_type": "code",
   "execution_count": 58,
   "id": "2803bdc2",
   "metadata": {},
   "outputs": [
    {
     "name": "stdout",
     "output_type": "stream",
     "text": [
      "The name of an employee is himani and he/she gets 50800 rupees. and she knows Python\n"
     ]
    }
   ],
   "source": [
    "print(developer.display_info())"
   ]
  },
  {
   "cell_type": "markdown",
   "id": "3a718b0f",
   "metadata": {},
   "source": [
    "# 8. Design a base class called \"Shape\" with attributes like \"colour\" and \"border_width.\" Create derived classes, \"Rectangle\" and \"Circle,\" that inherit from \"Shape\" and add specific attributes like \"length\" and \"width\" for the \"Rectangle\" class and \"radius\" for the \"Circle\" class."
   ]
  },
  {
   "cell_type": "code",
   "execution_count": 79,
   "id": "0e13674e",
   "metadata": {},
   "outputs": [],
   "source": [
    "#Answer:\n",
    " \n",
    "class Shape:\n",
    "    def __init__(self, colour, border_width):\n",
    "        self.colour = colour\n",
    "        self.border_width = border_width\n",
    "    \n",
    "    def display_info(self):\n",
    "        return f\"Colour: {self.colour}, Border Width: {self.border_width}\""
   ]
  },
  {
   "cell_type": "code",
   "execution_count": 80,
   "id": "b6e51599",
   "metadata": {},
   "outputs": [],
   "source": [
    "class Rectangle(Shape):\n",
    "    def __init__(self, colour, border_width, length, width):\n",
    "        super().__init__(colour, border_width)\n",
    "        self.length = length\n",
    "        self.width = width\n",
    "    \n",
    "    def display_info(self):\n",
    "        return f\"{super().display_info()}, Length: {self.length}, Width: {self.width}\""
   ]
  },
  {
   "cell_type": "code",
   "execution_count": 82,
   "id": "c0e34143",
   "metadata": {},
   "outputs": [],
   "source": [
    "class Circle(Shape):\n",
    "    def __init__(self, colour, border_width, radius):\n",
    "        super().__init__(colour, border_width)\n",
    "        self.radius = radius\n",
    "    \n",
    "    def display_info(self):\n",
    "        return f\"{super().display_info()}, Radius: {self.radius}\""
   ]
  },
  {
   "cell_type": "code",
   "execution_count": 83,
   "id": "91663f96",
   "metadata": {},
   "outputs": [],
   "source": [
    "rectangle = Rectangle(\"Blue\", 2, 10, 6)"
   ]
  },
  {
   "cell_type": "code",
   "execution_count": 84,
   "id": "a5f1d63f",
   "metadata": {},
   "outputs": [
    {
     "name": "stdout",
     "output_type": "stream",
     "text": [
      "Colour: Blue, Border Width: 2, Length: 10, Width: 6\n"
     ]
    }
   ],
   "source": [
    "print(rectangle.display_info())"
   ]
  },
  {
   "cell_type": "code",
   "execution_count": 85,
   "id": "3af14659",
   "metadata": {},
   "outputs": [],
   "source": [
    "circle = Circle(\"Red\", 1, 8)"
   ]
  },
  {
   "cell_type": "code",
   "execution_count": 86,
   "id": "ed9c9ba2",
   "metadata": {},
   "outputs": [
    {
     "name": "stdout",
     "output_type": "stream",
     "text": [
      "Colour: Red, Border Width: 1, Radius: 8\n"
     ]
    }
   ],
   "source": [
    "print(circle.display_info())"
   ]
  },
  {
   "cell_type": "markdown",
   "id": "e3798c82",
   "metadata": {},
   "source": [
    "# 9. Create a base class called \"Device\" with attributes like \"brand\" and \"model.\" Derive two classes, \"Phone\" and \"Tablet,\" from \"Device.\" Add specific attributes like \"screen_size\" for the \"Phone\" class and \"battery_capacity\" for the \"Tablet\" class."
   ]
  },
  {
   "cell_type": "code",
   "execution_count": 87,
   "id": "48e40b45",
   "metadata": {},
   "outputs": [],
   "source": [
    "#Answer:\n",
    " \n",
    "class Device:\n",
    "    def __init__(self,brand,model):\n",
    "        self.brand = brand\n",
    "        self.model = model\n",
    "        \n",
    "    def display_info(self):\n",
    "        return f\"The brand is {self.brand} and model is {self.model}\""
   ]
  },
  {
   "cell_type": "code",
   "execution_count": 89,
   "id": "690fab4a",
   "metadata": {},
   "outputs": [],
   "source": [
    "class Phone(Device):\n",
    "    def __init__(self, brand, model, screen_size):\n",
    "        super().__init__(brand, model)\n",
    "        self.screen_size = screen_size\n",
    "    \n",
    "    def display_info(self):\n",
    "        return f\"{super().display_info()} and has a Screen Size of {self.screen_size}\""
   ]
  },
  {
   "cell_type": "code",
   "execution_count": 90,
   "id": "f4fbe779",
   "metadata": {},
   "outputs": [],
   "source": [
    "class Tablet(Device):\n",
    "    def __init__(self, brand, model, battery_capacity):\n",
    "        super().__init__(brand, model)  # Call the constructor of the base class\n",
    "        self.battery_capacity = battery_capacity\n",
    "    \n",
    "    def display_info(self):\n",
    "        return f\"{super().display_info()} and has biggest Battery Capacity of {self.battery_capacity}\""
   ]
  },
  {
   "cell_type": "code",
   "execution_count": 91,
   "id": "86cd6e17",
   "metadata": {},
   "outputs": [],
   "source": [
    "device = Device(\"iPhone\", \"13\")"
   ]
  },
  {
   "cell_type": "code",
   "execution_count": 92,
   "id": "f9c9ab6d",
   "metadata": {},
   "outputs": [
    {
     "data": {
      "text/plain": [
       "'The brand is iPhone and model is 13'"
      ]
     },
     "execution_count": 92,
     "metadata": {},
     "output_type": "execute_result"
    }
   ],
   "source": [
    "device.display_info()"
   ]
  },
  {
   "cell_type": "code",
   "execution_count": 94,
   "id": "d3547650",
   "metadata": {},
   "outputs": [],
   "source": [
    "phone = Phone(\"Asus\",\"Rog5s\",6.8)"
   ]
  },
  {
   "cell_type": "code",
   "execution_count": 95,
   "id": "98a0787a",
   "metadata": {},
   "outputs": [
    {
     "data": {
      "text/plain": [
       "'The brand is Asus and model is Rog5s and has a Screen Size of 6.8'"
      ]
     },
     "execution_count": 95,
     "metadata": {},
     "output_type": "execute_result"
    }
   ],
   "source": [
    "phone.display_info()"
   ]
  },
  {
   "cell_type": "code",
   "execution_count": 96,
   "id": "0b719006",
   "metadata": {},
   "outputs": [],
   "source": [
    "tablet = Tablet(\"samsung\",\"tab s7\",\"10000mah\")"
   ]
  },
  {
   "cell_type": "code",
   "execution_count": 97,
   "id": "4f4986b6",
   "metadata": {},
   "outputs": [
    {
     "data": {
      "text/plain": [
       "'The brand is samsung and model is tab s7 and has biggest Battery Capacity of 10000mah'"
      ]
     },
     "execution_count": 97,
     "metadata": {},
     "output_type": "execute_result"
    }
   ],
   "source": [
    "tablet.display_info()"
   ]
  },
  {
   "cell_type": "markdown",
   "id": "0a6b7818",
   "metadata": {},
   "source": [
    "# 10. Create a base class called \"BankAccount\" with attributes like \"account_number\" and \"balance.\" Derive two classes, \"SavingsAccount\" and \"CheckingAccount,\" from \"BankAccount.\" Add specific methods like \"calculate_interest\" for the \"SavingsAccount\" class and \"deduct_fees\" for the \"CheckingAccount\" class."
   ]
  },
  {
   "cell_type": "code",
   "execution_count": 99,
   "id": "2f0b38dd",
   "metadata": {},
   "outputs": [],
   "source": [
    "#Answer:\n",
    "    \n",
    "class BankAccount:\n",
    "    def __init__(self, account_number, balance):\n",
    "        self.account_number = account_number\n",
    "        self.balance = balance\n",
    "    \n",
    "    def display_info(self):\n",
    "        return f\"Account Number is {self.account_number} owner is rich with Balance ${self.balance:.2f}\"  "
   ]
  },
  {
   "cell_type": "code",
   "execution_count": 100,
   "id": "7ab4d1aa",
   "metadata": {},
   "outputs": [],
   "source": [
    "class SavingsAccount(BankAccount):\n",
    "    def __init__(self, account_number, balance, interest_rate):\n",
    "        super().__init__(account_number, balance)\n",
    "        self.interest_rate = interest_rate\n",
    "    \n",
    "    def calculate_interest(self):\n",
    "        return self.balance * (self.interest_rate / 100)"
   ]
  },
  {
   "cell_type": "code",
   "execution_count": 101,
   "id": "f18fb62c",
   "metadata": {},
   "outputs": [],
   "source": [
    "class CheckingAccount(BankAccount):\n",
    "    def __init__(self, account_number, balance, fee):\n",
    "        super().__init__(account_number, balance)\n",
    "        self.fee = fee\n",
    "    \n",
    "    def deduct_fees(self):\n",
    "        self.balance -= self.fee"
   ]
  },
  {
   "cell_type": "code",
   "execution_count": 102,
   "id": "9a3ed2ab",
   "metadata": {},
   "outputs": [],
   "source": [
    "bnkacc = BankAccount(917400232701, 100000)"
   ]
  },
  {
   "cell_type": "code",
   "execution_count": 103,
   "id": "278f4f24",
   "metadata": {},
   "outputs": [
    {
     "data": {
      "text/plain": [
       "'Account Number is 917400232701 owner is rich with Balance $100000.00'"
      ]
     },
     "execution_count": 103,
     "metadata": {},
     "output_type": "execute_result"
    }
   ],
   "source": [
    "bnkacc.display_info()"
   ]
  },
  {
   "cell_type": "code",
   "execution_count": 104,
   "id": "972b2e9f",
   "metadata": {},
   "outputs": [],
   "source": [
    "savings_account = SavingsAccount(\"123456\", 5000, 2.5)"
   ]
  },
  {
   "cell_type": "code",
   "execution_count": 105,
   "id": "7ff0e801",
   "metadata": {},
   "outputs": [
    {
     "data": {
      "text/plain": [
       "'Account Number is 123456 owner is rich with Balance $5000.00'"
      ]
     },
     "execution_count": 105,
     "metadata": {},
     "output_type": "execute_result"
    }
   ],
   "source": [
    "savings_account.display_info()"
   ]
  },
  {
   "cell_type": "code",
   "execution_count": 106,
   "id": "fd69b50e",
   "metadata": {},
   "outputs": [
    {
     "name": "stdout",
     "output_type": "stream",
     "text": [
      "Interest: $125.00\n"
     ]
    }
   ],
   "source": [
    "print(f\"Interest: ${savings_account.calculate_interest():.2f}\")"
   ]
  },
  {
   "cell_type": "code",
   "execution_count": 107,
   "id": "24826743",
   "metadata": {},
   "outputs": [],
   "source": [
    "checking_account = CheckingAccount(\"789012\", 3000, 10)"
   ]
  },
  {
   "cell_type": "code",
   "execution_count": 108,
   "id": "b98f8db0",
   "metadata": {},
   "outputs": [
    {
     "name": "stdout",
     "output_type": "stream",
     "text": [
      "Account Number is 789012 owner is rich with Balance $3000.00\n"
     ]
    }
   ],
   "source": [
    "print(checking_account.display_info())"
   ]
  },
  {
   "cell_type": "code",
   "execution_count": 109,
   "id": "0c72e8d2",
   "metadata": {},
   "outputs": [],
   "source": [
    "checking_account.deduct_fees()"
   ]
  },
  {
   "cell_type": "code",
   "execution_count": 110,
   "id": "3bcd1f5b",
   "metadata": {},
   "outputs": [
    {
     "name": "stdout",
     "output_type": "stream",
     "text": [
      "Account Number is 789012 owner is rich with Balance $2990.00\n"
     ]
    }
   ],
   "source": [
    "print(checking_account.display_info())"
   ]
  }
 ],
 "metadata": {
  "kernelspec": {
   "display_name": "Python 3 (ipykernel)",
   "language": "python",
   "name": "python3"
  },
  "language_info": {
   "codemirror_mode": {
    "name": "ipython",
    "version": 3
   },
   "file_extension": ".py",
   "mimetype": "text/x-python",
   "name": "python",
   "nbconvert_exporter": "python",
   "pygments_lexer": "ipython3",
   "version": "3.11.2"
  }
 },
 "nbformat": 4,
 "nbformat_minor": 5
}
